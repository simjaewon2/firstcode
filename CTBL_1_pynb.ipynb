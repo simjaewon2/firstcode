{
  "nbformat": 4,
  "nbformat_minor": 0,
  "metadata": {
    "colab": {
      "provenance": [],
      "authorship_tag": "ABX9TyP43iS/ZICidw6c01NjoiT6",
      "include_colab_link": true
    },
    "kernelspec": {
      "name": "python3",
      "display_name": "Python 3"
    },
    "language_info": {
      "name": "python"
    }
  },
  "cells": [
    {
      "cell_type": "markdown",
      "metadata": {
        "id": "view-in-github",
        "colab_type": "text"
      },
      "source": [
        "<a href=\"https://colab.research.google.com/github/simjaewon2/firstcode/blob/main/CTBL_1_pynb.ipynb\" target=\"_parent\"><img src=\"https://colab.research.google.com/assets/colab-badge.svg\" alt=\"Open In Colab\"/></a>"
      ]
    },
    {
      "cell_type": "markdown",
      "source": [
        "1. 학생으로부터 성적을 입력하여 합격유무를 출력하는 코드작성\n",
        " - 사용변수 grade\n",
        " - 사용 수식 grade >= 70"
      ],
      "metadata": {
        "id": "MUbERJJ409AB"
      }
    },
    {
      "cell_type": "code",
      "execution_count": 14,
      "metadata": {
        "colab": {
          "base_uri": "https://localhost:8080/",
          "height": 147
        },
        "id": "8RbgNsGa08CQ",
        "outputId": "555ba912-7d8b-4714-d1b0-ee77748a5e26"
      },
      "outputs": [
        {
          "output_type": "error",
          "ename": "SyntaxError",
          "evalue": "ignored",
          "traceback": [
            "\u001b[0;36m  File \u001b[0;32m\"<ipython-input-14-c0b66a380627>\"\u001b[0;36m, line \u001b[0;32m2\u001b[0m\n\u001b[0;31m    if grade >==  70 :\u001b[0m\n\u001b[0m               ^\u001b[0m\n\u001b[0;31mSyntaxError\u001b[0m\u001b[0;31m:\u001b[0m invalid syntax\n"
          ]
        }
      ],
      "source": [
        "Grade = int(input(\"성적입력 : \"))\n",
        "if grade >==  70 :\n",
        "   print(\"70점 이상으로 합격\")\n",
        "else\n",
        "  print(\"70점 이하는 불합격\")"
      ]
    },
    {
      "cell_type": "markdown",
      "source": [
        "2. 쇼핑몰의 배송료를 계산하는 코드작성\n",
        " - 변수명 : price, shipping_cost\n",
        " - 수식 :  price >= 20000"
      ],
      "metadata": {
        "id": "_fDXxEOV3sri"
      }
    },
    {
      "cell_type": "code",
      "source": [
        "price = int(input(\"구입금액 입력 : \"))\n",
        "if price >= 20000:\n",
        "  shipping_cost = 0\n",
        "  print(\"구입금액이 (price)로 이상입니다.\")\n",
        "else:\n",
        "  shipping_cost = 3000\n",
        "print(\"구입금액이 2만원 이하입니다.\")\n",
        "print(\"회원님의 배송료는 (shipping-cost) 입니다 \")"
      ],
      "metadata": {
        "colab": {
          "base_uri": "https://localhost:8080/"
        },
        "id": "NX6jicts428z",
        "outputId": "7877bbb0-36bc-4a26-ea89-d4dfc7d65e4c"
      },
      "execution_count": 24,
      "outputs": [
        {
          "output_type": "stream",
          "name": "stdout",
          "text": [
            "구입금액 입력 : 20000\n",
            "구입금액이 (price)로 이상입니다.\n",
            "구입금액이 2만원 이하입니다.\n",
            "회원님의 배송료는 (shipping-cost) 입니다 \n"
          ]
        }
      ]
    },
    {
      "cell_type": "markdown",
      "source": [
        "4. 근무시간에 따라 초과근무와 정상근무를 판별하는 코드작성\n",
        " - 변수 : work_hour\n",
        " - 수식 : >> 기준시간 : 72시간"
      ],
      "metadata": {
        "id": "_QBEwGc7755V"
      }
    },
    {
      "cell_type": "code",
      "source": [
        "work_hour = int(input(\"근무시간 입력 : \"))\n",
        "if work_hour >== 72\n",
        "print( \"초과근무 하였습니다. \")\n",
        "else:\n",
        "  print(\"정상근무하였습니다. \")"
      ],
      "metadata": {
        "colab": {
          "base_uri": "https://localhost:8080/",
          "height": 147
        },
        "id": "r_4Isl_479VF",
        "outputId": "3ce9c46f-735d-4cb6-a471-63d27e416dc6"
      },
      "execution_count": 29,
      "outputs": [
        {
          "output_type": "error",
          "ename": "SyntaxError",
          "evalue": "ignored",
          "traceback": [
            "\u001b[0;36m  File \u001b[0;32m\"<ipython-input-29-770523d4d22c>\"\u001b[0;36m, line \u001b[0;32m2\u001b[0m\n\u001b[0;31m    if work_hour >== 72\u001b[0m\n\u001b[0m                   ^\u001b[0m\n\u001b[0;31mSyntaxError\u001b[0m\u001b[0;31m:\u001b[0m invalid syntax\n"
          ]
        }
      ]
    },
    {
      "cell_type": "markdown",
      "source": [
        "5. 정수를 입력받아서 짝수인지 홀수인지 판별하는 코드 작성\n",
        " - 변수 : num\n",
        " - 수식 : (num & 2)=0:"
      ],
      "metadata": {
        "id": "IL_Gn_Ze-Cm3"
      }
    },
    {
      "cell_type": "code",
      "source": [
        "num = int(input(\"정수를 입력하시오. \"))\n",
        "if (num &  2) = 0:\n",
        "  print(\"홀수입니다. \")\n",
        "else:\n",
        "    print(\"짝수입니다. \")"
      ],
      "metadata": {
        "colab": {
          "base_uri": "https://localhost:8080/",
          "height": 147
        },
        "id": "255fVoEf-IcG",
        "outputId": "a9612c75-fe05-41fc-af42-06575aebd041"
      },
      "execution_count": 32,
      "outputs": [
        {
          "output_type": "error",
          "ename": "SyntaxError",
          "evalue": "ignored",
          "traceback": [
            "\u001b[0;36m  File \u001b[0;32m\"<ipython-input-32-52582eed2fc7>\"\u001b[0;36m, line \u001b[0;32m2\u001b[0m\n\u001b[0;31m    if (num &  2) = 0:\u001b[0m\n\u001b[0m        ^\u001b[0m\n\u001b[0;31mSyntaxError\u001b[0m\u001b[0;31m:\u001b[0m cannot assign to expression here. Maybe you meant '==' instead of '='?\n"
          ]
        }
      ]
    },
    {
      "cell_type": "markdown",
      "source": [
        "5. 사용자의 이름과 나이를 입력받고 답변하는 코드작성\n",
        " - 입력 : 성명 - name\n",
        " - 입력 : 나이 - age\n",
        " - 수식 : if age <= 20:\n",
        " 최종 출력문\n",
        "  - 이름을 입력하시오 : ***\n",
        "  - 나이를 입력하시오 : **\n",
        "  - (1) 프로그램을 배우는 최적의 나이입니다.\n",
        "  - (2) 아직도 늦지 않았습니다. 도전정신\n",
        "  "
      ],
      "metadata": {
        "id": "KqS0X5OSAk7Z"
      }
    },
    {
      "cell_type": "code",
      "source": [
        "name = input(\"이름을 입력하시오. \")\n",
        "age = int(input(\"나이를 입력하시오 :\"))\n",
        "if age <= 20:\n",
        " print(\"프로그램을 배우는 최적의 나이입니다. \")\n",
        "else:\n",
        " print(\"아직도 늦지 않았습니다. 도전 정신 \")"
      ],
      "metadata": {
        "colab": {
          "base_uri": "https://localhost:8080/"
        },
        "id": "c7RY_DYTBXHq",
        "outputId": "f775585d-12e2-4299-b92b-1f4b3d7cfff5"
      },
      "execution_count": 39,
      "outputs": [
        {
          "output_type": "stream",
          "name": "stdout",
          "text": [
            "이름을 입력하시오. 1\n",
            "나이를 입력하시오 :3\n",
            "프로그램을 배우는 최적의 나이입니다. \n"
          ]
        }
      ]
    },
    {
      "cell_type": "code",
      "source": [],
      "metadata": {
        "id": "0dtmAuuuDVk7"
      },
      "execution_count": null,
      "outputs": []
    }
  ]
}