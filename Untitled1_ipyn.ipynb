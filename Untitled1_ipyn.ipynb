{
  "nbformat": 4,
  "nbformat_minor": 0,
  "metadata": {
    "colab": {
      "provenance": [],
      "authorship_tag": "ABX9TyPinMckloTpgDm1vUrcxFdb",
      "include_colab_link": true
    },
    "kernelspec": {
      "name": "python3",
      "display_name": "Python 3"
    },
    "language_info": {
      "name": "python"
    }
  },
  "cells": [
    {
      "cell_type": "markdown",
      "metadata": {
        "id": "view-in-github",
        "colab_type": "text"
      },
      "source": [
        "<a href=\"https://colab.research.google.com/github/simjaewon2/firstcode/blob/main/Untitled1_ipyn.ipynb\" target=\"_parent\"><img src=\"https://colab.research.google.com/assets/colab-badge.svg\" alt=\"Open In Colab\"/></a>"
      ]
    },
    {
      "cell_type": "markdown",
      "source": [
        "사용자로부터 세개의 값 x,y,z를 입력받아서 1씩 각각 1씩 증가하도록 출력되는"
      ],
      "metadata": {
        "id": "g9kRctmuG4hY"
      }
    },
    {
      "cell_type": "code",
      "execution_count": 2,
      "metadata": {
        "colab": {
          "base_uri": "https://localhost:8080/",
          "height": 313
        },
        "id": "2bA7t38yG4IN",
        "outputId": "c83a3ccd-9140-42ce-be1e-9d029ac600fc"
      },
      "outputs": [
        {
          "name": "stdout",
          "output_type": "stream",
          "text": [
            "x의 값을 입력하시오.1\n",
            "y의 값을 입력하시오.2\n",
            "z의 값을 입력하시오.3\n"
          ]
        },
        {
          "output_type": "error",
          "ename": "NameError",
          "evalue": "ignored",
          "traceback": [
            "\u001b[0;31m---------------------------------------------------------------------------\u001b[0m",
            "\u001b[0;31mNameError\u001b[0m                                 Traceback (most recent call last)",
            "\u001b[0;32m<ipython-input-2-c7765146a532>\u001b[0m in \u001b[0;36m<cell line: 4>\u001b[0;34m()\u001b[0m\n\u001b[1;32m      2\u001b[0m \u001b[0mint\u001b[0m\u001b[0;34m(\u001b[0m\u001b[0minput\u001b[0m\u001b[0;34m(\u001b[0m\u001b[0;34m\"y의 값을 입력하시오.\"\u001b[0m\u001b[0;34m)\u001b[0m\u001b[0;34m)\u001b[0m\u001b[0;34m\u001b[0m\u001b[0;34m\u001b[0m\u001b[0m\n\u001b[1;32m      3\u001b[0m \u001b[0mint\u001b[0m\u001b[0;34m(\u001b[0m\u001b[0minput\u001b[0m\u001b[0;34m(\u001b[0m\u001b[0;34m\"z의 값을 입력하시오.\"\u001b[0m\u001b[0;34m)\u001b[0m\u001b[0;34m)\u001b[0m\u001b[0;34m\u001b[0m\u001b[0;34m\u001b[0m\u001b[0m\n\u001b[0;32m----> 4\u001b[0;31m \u001b[0mx\u001b[0m \u001b[0;34m=\u001b[0m \u001b[0mx\u001b[0m \u001b[0;34m+\u001b[0m \u001b[0;36m1\u001b[0m\u001b[0;34m\u001b[0m\u001b[0;34m\u001b[0m\u001b[0m\n\u001b[0m\u001b[1;32m      5\u001b[0m \u001b[0my\u001b[0m \u001b[0;34m=\u001b[0m \u001b[0my\u001b[0m \u001b[0;34m+\u001b[0m \u001b[0;36m1\u001b[0m\u001b[0;34m\u001b[0m\u001b[0;34m\u001b[0m\u001b[0m\n\u001b[1;32m      6\u001b[0m \u001b[0mz\u001b[0m \u001b[0;34m=\u001b[0m \u001b[0mz\u001b[0m \u001b[0;34m+\u001b[0m \u001b[0;36m1\u001b[0m\u001b[0;34m\u001b[0m\u001b[0;34m\u001b[0m\u001b[0m\n",
            "\u001b[0;31mNameError\u001b[0m: name 'x' is not defined"
          ]
        }
      ],
      "source": [
        "x = int(input(\"x의 값을 입력하시오.\"))\n",
        "y = int(input(\"y의 값을 입력하시오.\"))\n",
        "z = int(input(\"z의 값을 입력하시오.\"))\n",
        "x = x + 1\n",
        "y = y + 1\n",
        "z = z + 1\n",
        "print('x의 값은 증가로 (x)이며 y의 값은 (y)이며, z의 값은 (z)이다. ')"
      ]
    },
    {
      "cell_type": "markdown",
      "source": [
        "2. 알바생의 시급과 시간을 계산하여 월급을 출력하는 코드"
      ],
      "metadata": {
        "id": "h5RQyCyiJMle"
      }
    },
    {
      "cell_type": "code",
      "source": [
        "hour_woker = int(input('일한 시간을 입력하시오.'))\n",
        "pay_rate = int(input('시급을 입력하시오 (23기준 9620원): '))\n",
        "monthly_pay = hours_worked +\n"
      ],
      "metadata": {
        "id": "c7alch1aJcK_"
      },
      "execution_count": null,
      "outputs": []
    },
    {
      "cell_type": "markdown",
      "source": [
        "3. 환율 계산하는 코드를 작성\n",
        " - 원의변수는 won\n",
        " - 달러의 변수는 usd\n",
        " - 환전의 변수는 money exchange"
      ],
      "metadata": {
        "id": "eKf_L8iiLpTA"
      }
    },
    {
      "cell_type": "code",
      "source": [
        "int(input(\"환전할 금액을 입력(kor)\"))\n",
        "usd = int(input(\"현재 달러의 환율을 입력(231031, 1372)\"))\n",
        "exchange = won * usd\n",
        "print(\"환전 금액은 (won)이며, 금액은 (usd)이며, 환전금액은(exchange)이다. \")\n"
      ],
      "metadata": {
        "id": "FT_Z_BwxL5uG"
      },
      "execution_count": null,
      "outputs": []
    },
    {
      "cell_type": "markdown",
      "source": [
        "4. 화씨(fahrenheit)를 섭씨(celsius)로 변환하는 코드작성"
      ],
      "metadata": {
        "id": "u5SKeTIxN7yA"
      }
    },
    {
      "cell_type": "code",
      "source": [
        "fahrenheit = int(input('화씨 온도를 입력하시오.'))\n",
        "celsius = (fahrenheit-32) / 1.8\n",
        "print('섭씨온도는 (celsius), 화씨 (fahrenheit)도 입니다.')\n"
      ],
      "metadata": {
        "id": "4gPbxC_uOVHG"
      },
      "execution_count": null,
      "outputs": []
    },
    {
      "cell_type": "code",
      "source": [],
      "metadata": {
        "id": "Yz-wfxQBRGRP"
      },
      "execution_count": null,
      "outputs": []
    }
  ]
}